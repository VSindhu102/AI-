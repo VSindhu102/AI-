{
 "cells": [
  {
   "cell_type": "code",
   "execution_count": 1,
   "metadata": {},
   "outputs": [],
   "source": [
    "#Churn Rate Prediction using Classification Algorithms\n",
    "#importing libraries\n",
    "import numpy as np\n",
    "import pandas as pd\n",
    "import matplotlib.pyplot as plt\n"
   ]
  },
  {
   "cell_type": "code",
   "execution_count": 2,
   "metadata": {},
   "outputs": [],
   "source": [
    "#importing dataset\n",
    "dataset = pd.read_csv('./Churn_Modelling.csv')"
   ]
  },
  {
   "cell_type": "code",
   "execution_count": 3,
   "metadata": {
    "scrolled": true
   },
   "outputs": [
    {
     "data": {
      "text/html": [
       "<div>\n",
       "<style scoped>\n",
       "    .dataframe tbody tr th:only-of-type {\n",
       "        vertical-align: middle;\n",
       "    }\n",
       "\n",
       "    .dataframe tbody tr th {\n",
       "        vertical-align: top;\n",
       "    }\n",
       "\n",
       "    .dataframe thead th {\n",
       "        text-align: right;\n",
       "    }\n",
       "</style>\n",
       "<table border=\"1\" class=\"dataframe\">\n",
       "  <thead>\n",
       "    <tr style=\"text-align: right;\">\n",
       "      <th></th>\n",
       "      <th>RowNumber</th>\n",
       "      <th>CustomerId</th>\n",
       "      <th>Surname</th>\n",
       "      <th>CreditScore</th>\n",
       "      <th>Geography</th>\n",
       "      <th>Gender</th>\n",
       "      <th>Age</th>\n",
       "      <th>Tenure</th>\n",
       "      <th>Balance</th>\n",
       "      <th>NumOfProducts</th>\n",
       "      <th>HasCrCard</th>\n",
       "      <th>IsActiveMember</th>\n",
       "      <th>EstimatedSalary</th>\n",
       "      <th>Exited</th>\n",
       "    </tr>\n",
       "  </thead>\n",
       "  <tbody>\n",
       "    <tr>\n",
       "      <th>0</th>\n",
       "      <td>1</td>\n",
       "      <td>15634602</td>\n",
       "      <td>Hargrave</td>\n",
       "      <td>619</td>\n",
       "      <td>France</td>\n",
       "      <td>Female</td>\n",
       "      <td>42</td>\n",
       "      <td>2</td>\n",
       "      <td>0.00</td>\n",
       "      <td>1</td>\n",
       "      <td>1</td>\n",
       "      <td>1</td>\n",
       "      <td>101348.88</td>\n",
       "      <td>1</td>\n",
       "    </tr>\n",
       "    <tr>\n",
       "      <th>1</th>\n",
       "      <td>2</td>\n",
       "      <td>15647311</td>\n",
       "      <td>Hill</td>\n",
       "      <td>608</td>\n",
       "      <td>Spain</td>\n",
       "      <td>Female</td>\n",
       "      <td>41</td>\n",
       "      <td>1</td>\n",
       "      <td>83807.86</td>\n",
       "      <td>1</td>\n",
       "      <td>0</td>\n",
       "      <td>1</td>\n",
       "      <td>112542.58</td>\n",
       "      <td>0</td>\n",
       "    </tr>\n",
       "    <tr>\n",
       "      <th>2</th>\n",
       "      <td>3</td>\n",
       "      <td>15619304</td>\n",
       "      <td>Onio</td>\n",
       "      <td>502</td>\n",
       "      <td>France</td>\n",
       "      <td>Female</td>\n",
       "      <td>42</td>\n",
       "      <td>8</td>\n",
       "      <td>159660.80</td>\n",
       "      <td>3</td>\n",
       "      <td>1</td>\n",
       "      <td>0</td>\n",
       "      <td>113931.57</td>\n",
       "      <td>1</td>\n",
       "    </tr>\n",
       "    <tr>\n",
       "      <th>3</th>\n",
       "      <td>4</td>\n",
       "      <td>15701354</td>\n",
       "      <td>Boni</td>\n",
       "      <td>699</td>\n",
       "      <td>France</td>\n",
       "      <td>Female</td>\n",
       "      <td>39</td>\n",
       "      <td>1</td>\n",
       "      <td>0.00</td>\n",
       "      <td>2</td>\n",
       "      <td>0</td>\n",
       "      <td>0</td>\n",
       "      <td>93826.63</td>\n",
       "      <td>0</td>\n",
       "    </tr>\n",
       "    <tr>\n",
       "      <th>4</th>\n",
       "      <td>5</td>\n",
       "      <td>15737888</td>\n",
       "      <td>Mitchell</td>\n",
       "      <td>850</td>\n",
       "      <td>Spain</td>\n",
       "      <td>Female</td>\n",
       "      <td>43</td>\n",
       "      <td>2</td>\n",
       "      <td>125510.82</td>\n",
       "      <td>1</td>\n",
       "      <td>1</td>\n",
       "      <td>1</td>\n",
       "      <td>79084.10</td>\n",
       "      <td>0</td>\n",
       "    </tr>\n",
       "    <tr>\n",
       "      <th>...</th>\n",
       "      <td>...</td>\n",
       "      <td>...</td>\n",
       "      <td>...</td>\n",
       "      <td>...</td>\n",
       "      <td>...</td>\n",
       "      <td>...</td>\n",
       "      <td>...</td>\n",
       "      <td>...</td>\n",
       "      <td>...</td>\n",
       "      <td>...</td>\n",
       "      <td>...</td>\n",
       "      <td>...</td>\n",
       "      <td>...</td>\n",
       "      <td>...</td>\n",
       "    </tr>\n",
       "    <tr>\n",
       "      <th>9995</th>\n",
       "      <td>9996</td>\n",
       "      <td>15606229</td>\n",
       "      <td>Obijiaku</td>\n",
       "      <td>771</td>\n",
       "      <td>France</td>\n",
       "      <td>Male</td>\n",
       "      <td>39</td>\n",
       "      <td>5</td>\n",
       "      <td>0.00</td>\n",
       "      <td>2</td>\n",
       "      <td>1</td>\n",
       "      <td>0</td>\n",
       "      <td>96270.64</td>\n",
       "      <td>0</td>\n",
       "    </tr>\n",
       "    <tr>\n",
       "      <th>9996</th>\n",
       "      <td>9997</td>\n",
       "      <td>15569892</td>\n",
       "      <td>Johnstone</td>\n",
       "      <td>516</td>\n",
       "      <td>France</td>\n",
       "      <td>Male</td>\n",
       "      <td>35</td>\n",
       "      <td>10</td>\n",
       "      <td>57369.61</td>\n",
       "      <td>1</td>\n",
       "      <td>1</td>\n",
       "      <td>1</td>\n",
       "      <td>101699.77</td>\n",
       "      <td>0</td>\n",
       "    </tr>\n",
       "    <tr>\n",
       "      <th>9997</th>\n",
       "      <td>9998</td>\n",
       "      <td>15584532</td>\n",
       "      <td>Liu</td>\n",
       "      <td>709</td>\n",
       "      <td>France</td>\n",
       "      <td>Female</td>\n",
       "      <td>36</td>\n",
       "      <td>7</td>\n",
       "      <td>0.00</td>\n",
       "      <td>1</td>\n",
       "      <td>0</td>\n",
       "      <td>1</td>\n",
       "      <td>42085.58</td>\n",
       "      <td>1</td>\n",
       "    </tr>\n",
       "    <tr>\n",
       "      <th>9998</th>\n",
       "      <td>9999</td>\n",
       "      <td>15682355</td>\n",
       "      <td>Sabbatini</td>\n",
       "      <td>772</td>\n",
       "      <td>Germany</td>\n",
       "      <td>Male</td>\n",
       "      <td>42</td>\n",
       "      <td>3</td>\n",
       "      <td>75075.31</td>\n",
       "      <td>2</td>\n",
       "      <td>1</td>\n",
       "      <td>0</td>\n",
       "      <td>92888.52</td>\n",
       "      <td>1</td>\n",
       "    </tr>\n",
       "    <tr>\n",
       "      <th>9999</th>\n",
       "      <td>10000</td>\n",
       "      <td>15628319</td>\n",
       "      <td>Walker</td>\n",
       "      <td>792</td>\n",
       "      <td>France</td>\n",
       "      <td>Female</td>\n",
       "      <td>28</td>\n",
       "      <td>4</td>\n",
       "      <td>130142.79</td>\n",
       "      <td>1</td>\n",
       "      <td>1</td>\n",
       "      <td>0</td>\n",
       "      <td>38190.78</td>\n",
       "      <td>0</td>\n",
       "    </tr>\n",
       "  </tbody>\n",
       "</table>\n",
       "<p>10000 rows × 14 columns</p>\n",
       "</div>"
      ],
      "text/plain": [
       "      RowNumber  CustomerId    Surname  CreditScore Geography  Gender  Age  \\\n",
       "0             1    15634602   Hargrave          619    France  Female   42   \n",
       "1             2    15647311       Hill          608     Spain  Female   41   \n",
       "2             3    15619304       Onio          502    France  Female   42   \n",
       "3             4    15701354       Boni          699    France  Female   39   \n",
       "4             5    15737888   Mitchell          850     Spain  Female   43   \n",
       "...         ...         ...        ...          ...       ...     ...  ...   \n",
       "9995       9996    15606229   Obijiaku          771    France    Male   39   \n",
       "9996       9997    15569892  Johnstone          516    France    Male   35   \n",
       "9997       9998    15584532        Liu          709    France  Female   36   \n",
       "9998       9999    15682355  Sabbatini          772   Germany    Male   42   \n",
       "9999      10000    15628319     Walker          792    France  Female   28   \n",
       "\n",
       "      Tenure    Balance  NumOfProducts  HasCrCard  IsActiveMember  \\\n",
       "0          2       0.00              1          1               1   \n",
       "1          1   83807.86              1          0               1   \n",
       "2          8  159660.80              3          1               0   \n",
       "3          1       0.00              2          0               0   \n",
       "4          2  125510.82              1          1               1   \n",
       "...      ...        ...            ...        ...             ...   \n",
       "9995       5       0.00              2          1               0   \n",
       "9996      10   57369.61              1          1               1   \n",
       "9997       7       0.00              1          0               1   \n",
       "9998       3   75075.31              2          1               0   \n",
       "9999       4  130142.79              1          1               0   \n",
       "\n",
       "      EstimatedSalary  Exited  \n",
       "0           101348.88       1  \n",
       "1           112542.58       0  \n",
       "2           113931.57       1  \n",
       "3            93826.63       0  \n",
       "4            79084.10       0  \n",
       "...               ...     ...  \n",
       "9995         96270.64       0  \n",
       "9996        101699.77       0  \n",
       "9997         42085.58       1  \n",
       "9998         92888.52       1  \n",
       "9999         38190.78       0  \n",
       "\n",
       "[10000 rows x 14 columns]"
      ]
     },
     "execution_count": 3,
     "metadata": {},
     "output_type": "execute_result"
    }
   ],
   "source": [
    "dataset"
   ]
  },
  {
   "cell_type": "code",
   "execution_count": 4,
   "metadata": {},
   "outputs": [
    {
     "data": {
      "text/plain": [
       "RowNumber          0\n",
       "CustomerId         0\n",
       "Surname            0\n",
       "CreditScore        0\n",
       "Geography          0\n",
       "Gender             0\n",
       "Age                0\n",
       "Tenure             0\n",
       "Balance            0\n",
       "NumOfProducts      0\n",
       "HasCrCard          0\n",
       "IsActiveMember     0\n",
       "EstimatedSalary    0\n",
       "Exited             0\n",
       "dtype: int64"
      ]
     },
     "execution_count": 4,
     "metadata": {},
     "output_type": "execute_result"
    }
   ],
   "source": [
    "dataset.isna().sum()"
   ]
  },
  {
   "cell_type": "code",
   "execution_count": 5,
   "metadata": {},
   "outputs": [],
   "source": [
    "X = dataset.iloc[:,3:-1].values\n",
    "y = dataset.iloc[:,-1].values"
   ]
  },
  {
   "cell_type": "code",
   "execution_count": 6,
   "metadata": {},
   "outputs": [
    {
     "name": "stdout",
     "output_type": "stream",
     "text": [
      "[[619 'France' 'Female' ... 1 1 101348.88]\n",
      " [608 'Spain' 'Female' ... 0 1 112542.58]\n",
      " [502 'France' 'Female' ... 1 0 113931.57]\n",
      " ...\n",
      " [709 'France' 'Female' ... 0 1 42085.58]\n",
      " [772 'Germany' 'Male' ... 1 0 92888.52]\n",
      " [792 'France' 'Female' ... 1 0 38190.78]]\n",
      "(10000, 10)\n"
     ]
    }
   ],
   "source": [
    "print(X)\n",
    "print(X.shape)"
   ]
  },
  {
   "cell_type": "code",
   "execution_count": 7,
   "metadata": {},
   "outputs": [
    {
     "data": {
      "text/plain": [
       "array([1, 0, 1, ..., 1, 1, 0], dtype=int64)"
      ]
     },
     "execution_count": 7,
     "metadata": {},
     "output_type": "execute_result"
    }
   ],
   "source": [
    "y"
   ]
  },
  {
   "cell_type": "code",
   "execution_count": 8,
   "metadata": {},
   "outputs": [],
   "source": [
    "# Encoding categorical data\n",
    "# Label Encoding the \"Gender\" column\n",
    "from sklearn.preprocessing import LabelEncoder\n",
    "le = LabelEncoder()\n",
    "X[:, 2] = le.fit_transform(X[:, 2])\n",
    "\n",
    "# One Hot Encoding the \"Geography\" column\n",
    "from sklearn.compose import ColumnTransformer\n",
    "from sklearn.preprocessing import OneHotEncoder\n",
    "ct = ColumnTransformer(transformers=[('encoder', OneHotEncoder(), [1])], remainder='passthrough')\n",
    "X = np.array(ct.fit_transform(X))"
   ]
  },
  {
   "cell_type": "code",
   "execution_count": 9,
   "metadata": {},
   "outputs": [
    {
     "name": "stdout",
     "output_type": "stream",
     "text": [
      "[[1.0 0.0 0.0 ... 1 1 101348.88]\n",
      " [0.0 0.0 1.0 ... 0 1 112542.58]\n",
      " [1.0 0.0 0.0 ... 1 0 113931.57]\n",
      " ...\n",
      " [1.0 0.0 0.0 ... 0 1 42085.58]\n",
      " [0.0 1.0 0.0 ... 1 0 92888.52]\n",
      " [1.0 0.0 0.0 ... 1 0 38190.78]]\n",
      "(10000, 12)\n"
     ]
    }
   ],
   "source": [
    "print(X)\n",
    "print(X.shape)"
   ]
  },
  {
   "cell_type": "code",
   "execution_count": 127,
   "metadata": {},
   "outputs": [
    {
     "data": {
      "text/html": [
       "<div>\n",
       "<style scoped>\n",
       "    .dataframe tbody tr th:only-of-type {\n",
       "        vertical-align: middle;\n",
       "    }\n",
       "\n",
       "    .dataframe tbody tr th {\n",
       "        vertical-align: top;\n",
       "    }\n",
       "\n",
       "    .dataframe thead th {\n",
       "        text-align: right;\n",
       "    }\n",
       "</style>\n",
       "<table border=\"1\" class=\"dataframe\">\n",
       "  <thead>\n",
       "    <tr style=\"text-align: right;\">\n",
       "      <th></th>\n",
       "      <th>0</th>\n",
       "      <th>1</th>\n",
       "      <th>2</th>\n",
       "      <th>3</th>\n",
       "      <th>4</th>\n",
       "      <th>5</th>\n",
       "      <th>6</th>\n",
       "      <th>7</th>\n",
       "      <th>8</th>\n",
       "      <th>9</th>\n",
       "      <th>10</th>\n",
       "    </tr>\n",
       "  </thead>\n",
       "  <tbody>\n",
       "    <tr>\n",
       "      <th>0</th>\n",
       "      <td>-0.578736</td>\n",
       "      <td>-0.573809</td>\n",
       "      <td>-0.326221</td>\n",
       "      <td>-1.095988</td>\n",
       "      <td>0.293517</td>\n",
       "      <td>-1.041760</td>\n",
       "      <td>-1.225848</td>\n",
       "      <td>-0.911583</td>\n",
       "      <td>0.646092</td>\n",
       "      <td>0.970243</td>\n",
       "      <td>0.021886</td>\n",
       "    </tr>\n",
       "    <tr>\n",
       "      <th>1</th>\n",
       "      <td>-0.578736</td>\n",
       "      <td>1.742740</td>\n",
       "      <td>-0.440036</td>\n",
       "      <td>-1.095988</td>\n",
       "      <td>0.198164</td>\n",
       "      <td>-1.387538</td>\n",
       "      <td>0.117350</td>\n",
       "      <td>-0.911583</td>\n",
       "      <td>-1.547768</td>\n",
       "      <td>0.970243</td>\n",
       "      <td>0.216534</td>\n",
       "    </tr>\n",
       "    <tr>\n",
       "      <th>2</th>\n",
       "      <td>-0.578736</td>\n",
       "      <td>-0.573809</td>\n",
       "      <td>-1.536794</td>\n",
       "      <td>-1.095988</td>\n",
       "      <td>0.293517</td>\n",
       "      <td>1.032908</td>\n",
       "      <td>1.333053</td>\n",
       "      <td>2.527057</td>\n",
       "      <td>0.646092</td>\n",
       "      <td>-1.030670</td>\n",
       "      <td>0.240687</td>\n",
       "    </tr>\n",
       "    <tr>\n",
       "      <th>3</th>\n",
       "      <td>-0.578736</td>\n",
       "      <td>-0.573809</td>\n",
       "      <td>0.501521</td>\n",
       "      <td>-1.095988</td>\n",
       "      <td>0.007457</td>\n",
       "      <td>-1.387538</td>\n",
       "      <td>-1.225848</td>\n",
       "      <td>0.807737</td>\n",
       "      <td>-1.547768</td>\n",
       "      <td>-1.030670</td>\n",
       "      <td>-0.108918</td>\n",
       "    </tr>\n",
       "    <tr>\n",
       "      <th>4</th>\n",
       "      <td>-0.578736</td>\n",
       "      <td>1.742740</td>\n",
       "      <td>2.063884</td>\n",
       "      <td>-1.095988</td>\n",
       "      <td>0.388871</td>\n",
       "      <td>-1.041760</td>\n",
       "      <td>0.785728</td>\n",
       "      <td>-0.911583</td>\n",
       "      <td>0.646092</td>\n",
       "      <td>0.970243</td>\n",
       "      <td>-0.365276</td>\n",
       "    </tr>\n",
       "    <tr>\n",
       "      <th>...</th>\n",
       "      <td>...</td>\n",
       "      <td>...</td>\n",
       "      <td>...</td>\n",
       "      <td>...</td>\n",
       "      <td>...</td>\n",
       "      <td>...</td>\n",
       "      <td>...</td>\n",
       "      <td>...</td>\n",
       "      <td>...</td>\n",
       "      <td>...</td>\n",
       "      <td>...</td>\n",
       "    </tr>\n",
       "    <tr>\n",
       "      <th>9995</th>\n",
       "      <td>-0.578736</td>\n",
       "      <td>-0.573809</td>\n",
       "      <td>1.246488</td>\n",
       "      <td>0.912419</td>\n",
       "      <td>0.007457</td>\n",
       "      <td>-0.004426</td>\n",
       "      <td>-1.225848</td>\n",
       "      <td>0.807737</td>\n",
       "      <td>0.646092</td>\n",
       "      <td>-1.030670</td>\n",
       "      <td>-0.066419</td>\n",
       "    </tr>\n",
       "    <tr>\n",
       "      <th>9996</th>\n",
       "      <td>-0.578736</td>\n",
       "      <td>-0.573809</td>\n",
       "      <td>-1.391939</td>\n",
       "      <td>0.912419</td>\n",
       "      <td>-0.373958</td>\n",
       "      <td>1.724464</td>\n",
       "      <td>-0.306379</td>\n",
       "      <td>-0.911583</td>\n",
       "      <td>0.646092</td>\n",
       "      <td>0.970243</td>\n",
       "      <td>0.027988</td>\n",
       "    </tr>\n",
       "    <tr>\n",
       "      <th>9997</th>\n",
       "      <td>-0.578736</td>\n",
       "      <td>-0.573809</td>\n",
       "      <td>0.604988</td>\n",
       "      <td>-1.095988</td>\n",
       "      <td>-0.278604</td>\n",
       "      <td>0.687130</td>\n",
       "      <td>-1.225848</td>\n",
       "      <td>-0.911583</td>\n",
       "      <td>-1.547768</td>\n",
       "      <td>0.970243</td>\n",
       "      <td>-1.008643</td>\n",
       "    </tr>\n",
       "    <tr>\n",
       "      <th>9998</th>\n",
       "      <td>1.727904</td>\n",
       "      <td>-0.573809</td>\n",
       "      <td>1.256835</td>\n",
       "      <td>0.912419</td>\n",
       "      <td>0.293517</td>\n",
       "      <td>-0.695982</td>\n",
       "      <td>-0.022608</td>\n",
       "      <td>0.807737</td>\n",
       "      <td>0.646092</td>\n",
       "      <td>-1.030670</td>\n",
       "      <td>-0.125231</td>\n",
       "    </tr>\n",
       "    <tr>\n",
       "      <th>9999</th>\n",
       "      <td>-0.578736</td>\n",
       "      <td>-0.573809</td>\n",
       "      <td>1.463771</td>\n",
       "      <td>-1.095988</td>\n",
       "      <td>-1.041433</td>\n",
       "      <td>-0.350204</td>\n",
       "      <td>0.859965</td>\n",
       "      <td>-0.911583</td>\n",
       "      <td>0.646092</td>\n",
       "      <td>-1.030670</td>\n",
       "      <td>-1.076370</td>\n",
       "    </tr>\n",
       "  </tbody>\n",
       "</table>\n",
       "<p>10000 rows × 11 columns</p>\n",
       "</div>"
      ],
      "text/plain": [
       "             0         1         2         3         4         5         6  \\\n",
       "0    -0.578736 -0.573809 -0.326221 -1.095988  0.293517 -1.041760 -1.225848   \n",
       "1    -0.578736  1.742740 -0.440036 -1.095988  0.198164 -1.387538  0.117350   \n",
       "2    -0.578736 -0.573809 -1.536794 -1.095988  0.293517  1.032908  1.333053   \n",
       "3    -0.578736 -0.573809  0.501521 -1.095988  0.007457 -1.387538 -1.225848   \n",
       "4    -0.578736  1.742740  2.063884 -1.095988  0.388871 -1.041760  0.785728   \n",
       "...        ...       ...       ...       ...       ...       ...       ...   \n",
       "9995 -0.578736 -0.573809  1.246488  0.912419  0.007457 -0.004426 -1.225848   \n",
       "9996 -0.578736 -0.573809 -1.391939  0.912419 -0.373958  1.724464 -0.306379   \n",
       "9997 -0.578736 -0.573809  0.604988 -1.095988 -0.278604  0.687130 -1.225848   \n",
       "9998  1.727904 -0.573809  1.256835  0.912419  0.293517 -0.695982 -0.022608   \n",
       "9999 -0.578736 -0.573809  1.463771 -1.095988 -1.041433 -0.350204  0.859965   \n",
       "\n",
       "             7         8         9        10  \n",
       "0    -0.911583  0.646092  0.970243  0.021886  \n",
       "1    -0.911583 -1.547768  0.970243  0.216534  \n",
       "2     2.527057  0.646092 -1.030670  0.240687  \n",
       "3     0.807737 -1.547768 -1.030670 -0.108918  \n",
       "4    -0.911583  0.646092  0.970243 -0.365276  \n",
       "...        ...       ...       ...       ...  \n",
       "9995  0.807737  0.646092 -1.030670 -0.066419  \n",
       "9996 -0.911583  0.646092  0.970243  0.027988  \n",
       "9997 -0.911583 -1.547768  0.970243 -1.008643  \n",
       "9998  0.807737  0.646092 -1.030670 -0.125231  \n",
       "9999 -0.911583  0.646092 -1.030670 -1.076370  \n",
       "\n",
       "[10000 rows x 11 columns]"
      ]
     },
     "execution_count": 127,
     "metadata": {},
     "output_type": "execute_result"
    }
   ],
   "source": [
    "X"
   ]
  },
  {
   "cell_type": "code",
   "execution_count": 10,
   "metadata": {},
   "outputs": [],
   "source": [
    "X=X[:,1:]"
   ]
  },
  {
   "cell_type": "code",
   "execution_count": 11,
   "metadata": {},
   "outputs": [
    {
     "name": "stdout",
     "output_type": "stream",
     "text": [
      "[[0.0 0.0 619 ... 1 1 101348.88]\n",
      " [0.0 1.0 608 ... 0 1 112542.58]\n",
      " [0.0 0.0 502 ... 1 0 113931.57]\n",
      " ...\n",
      " [0.0 0.0 709 ... 0 1 42085.58]\n",
      " [1.0 0.0 772 ... 1 0 92888.52]\n",
      " [0.0 0.0 792 ... 1 0 38190.78]]\n",
      "(10000, 11)\n"
     ]
    }
   ],
   "source": [
    "print(X)\n",
    "print(X.shape)"
   ]
  },
  {
   "cell_type": "code",
   "execution_count": 12,
   "metadata": {},
   "outputs": [],
   "source": [
    "#Feature Scaling\n",
    "from sklearn.preprocessing import StandardScaler\n",
    "sc = StandardScaler()\n",
    "X = sc.fit_transform(X)"
   ]
  },
  {
   "cell_type": "code",
   "execution_count": 13,
   "metadata": {},
   "outputs": [
    {
     "name": "stdout",
     "output_type": "stream",
     "text": [
      "[[-0.57873591 -0.57380915 -0.32622142 ...  0.64609167  0.97024255\n",
      "   0.02188649]\n",
      " [-0.57873591  1.74273971 -0.44003595 ... -1.54776799  0.97024255\n",
      "   0.21653375]\n",
      " [-0.57873591 -0.57380915 -1.53679418 ...  0.64609167 -1.03067011\n",
      "   0.2406869 ]\n",
      " ...\n",
      " [-0.57873591 -0.57380915  0.60498839 ... -1.54776799  0.97024255\n",
      "  -1.00864308]\n",
      " [ 1.72790383 -0.57380915  1.25683526 ...  0.64609167 -1.03067011\n",
      "  -0.12523071]\n",
      " [-0.57873591 -0.57380915  1.46377078 ...  0.64609167 -1.03067011\n",
      "  -1.07636976]]\n",
      "(10000, 11)\n"
     ]
    }
   ],
   "source": [
    "print(X)\n",
    "print(X.shape)"
   ]
  },
  {
   "cell_type": "code",
   "execution_count": 14,
   "metadata": {},
   "outputs": [],
   "source": [
    "#splitting dataset to train and test sets\n",
    "from sklearn.model_selection import train_test_split\n",
    "X_train,X_test,y_train,y_test=train_test_split(X,y,test_size=0.2,random_state=0)"
   ]
  },
  {
   "cell_type": "code",
   "execution_count": 15,
   "metadata": {
    "scrolled": true
   },
   "outputs": [
    {
     "data": {
      "text/plain": [
       "8000"
      ]
     },
     "execution_count": 15,
     "metadata": {},
     "output_type": "execute_result"
    }
   ],
   "source": [
    "len(X_train)"
   ]
  },
  {
   "cell_type": "code",
   "execution_count": 16,
   "metadata": {},
   "outputs": [
    {
     "name": "stdout",
     "output_type": "stream",
     "text": [
      "[0.02911057 0.01261703 0.13447524 0.01800315 0.23442154 0.10462851\n",
      " 0.13116912 0.14580063 0.02179592 0.03362596 0.13435234]\n"
     ]
    },
    {
     "data": {
      "image/png": "[encoded data removed]",
      "text/plain": [
       "<Figure size 432x288 with 1 Axes>"
      ]
     },
     "metadata": {
      "needs_background": "light"
     },
     "output_type": "display_data"
    }
   ],
   "source": [
    "from sklearn.ensemble import ExtraTreesClassifier\n",
    "X=pd.DataFrame(X)\n",
    "model = ExtraTreesClassifier()\n",
    "model.fit(X,y)\n",
    "print(model.feature_importances_)\n",
    "feat_importances = pd.Series(model.feature_importances_,index=X.columns)\n",
    "feat_importances.nlargest(12).plot(kind='barh')\n",
    "plt.show()"
   ]
  },
  {
   "cell_type": "code",
   "execution_count": 17,
   "metadata": {
    "scrolled": true
   },
   "outputs": [
    {
     "name": "stderr",
     "output_type": "stream",
     "text": [
      "Using TensorFlow backend.\n",
      "C:\\Users\\SINDHU\\Anaconda3\\lib\\site-packages\\tensorflow\\python\\framework\\dtypes.py:526: FutureWarning: Passing (type, 1) or '1type' as a synonym of type is deprecated; in a future version of numpy, it will be understood as (type, (1,)) / '(1,)type'.\n",
      "  _np_qint8 = np.dtype([(\"qint8\", np.int8, 1)])\n",
      "C:\\Users\\SINDHU\\Anaconda3\\lib\\site-packages\\tensorflow\\python\\framework\\dtypes.py:527: FutureWarning: Passing (type, 1) or '1type' as a synonym of type is deprecated; in a future version of numpy, it will be understood as (type, (1,)) / '(1,)type'.\n",
      "  _np_quint8 = np.dtype([(\"quint8\", np.uint8, 1)])\n",
      "C:\\Users\\SINDHU\\Anaconda3\\lib\\site-packages\\tensorflow\\python\\framework\\dtypes.py:528: FutureWarning: Passing (type, 1) or '1type' as a synonym of type is deprecated; in a future version of numpy, it will be understood as (type, (1,)) / '(1,)type'.\n",
      "  _np_qint16 = np.dtype([(\"qint16\", np.int16, 1)])\n",
      "C:\\Users\\SINDHU\\Anaconda3\\lib\\site-packages\\tensorflow\\python\\framework\\dtypes.py:529: FutureWarning: Passing (type, 1) or '1type' as a synonym of type is deprecated; in a future version of numpy, it will be understood as (type, (1,)) / '(1,)type'.\n",
      "  _np_quint16 = np.dtype([(\"quint16\", np.uint16, 1)])\n",
      "C:\\Users\\SINDHU\\Anaconda3\\lib\\site-packages\\tensorflow\\python\\framework\\dtypes.py:530: FutureWarning: Passing (type, 1) or '1type' as a synonym of type is deprecated; in a future version of numpy, it will be understood as (type, (1,)) / '(1,)type'.\n",
      "  _np_qint32 = np.dtype([(\"qint32\", np.int32, 1)])\n",
      "C:\\Users\\SINDHU\\Anaconda3\\lib\\site-packages\\tensorflow\\python\\framework\\dtypes.py:535: FutureWarning: Passing (type, 1) or '1type' as a synonym of type is deprecated; in a future version of numpy, it will be understood as (type, (1,)) / '(1,)type'.\n",
      "  np_resource = np.dtype([(\"resource\", np.ubyte, 1)])\n"
     ]
    }
   ],
   "source": [
    "#Aritificial Neural Networks algorithm\n",
    "#importing libraries\n",
    "import keras\n",
    "from keras.models import Sequential\n",
    "from keras.layers import Dense"
   ]
  },
  {
   "cell_type": "code",
   "execution_count": 18,
   "metadata": {},
   "outputs": [],
   "source": [
    "#initialising ANN\n",
    "classifier_ann = Sequential()"
   ]
  },
  {
   "cell_type": "code",
   "execution_count": 19,
   "metadata": {},
   "outputs": [
    {
     "name": "stdout",
     "output_type": "stream",
     "text": [
      "WARNING:tensorflow:From C:\\Users\\SINDHU\\Anaconda3\\lib\\site-packages\\tensorflow\\python\\ops\\resource_variable_ops.py:435: colocate_with (from tensorflow.python.framework.ops) is deprecated and will be removed in a future version.\n",
      "Instructions for updating:\n",
      "Colocations handled automatically by placer.\n"
     ]
    }
   ],
   "source": [
    "#building the ann\n",
    "#adding input and first hidden layers\n",
    "classifier_ann.add(Dense(units = 6,input_shape = (11,),activation = 'relu',kernel_initializer = 'uniform'))\n",
    "classifier_ann.add(Dense(units = 6,activation = 'relu'))"
   ]
  },
  {
   "cell_type": "code",
   "execution_count": 20,
   "metadata": {},
   "outputs": [],
   "source": [
    "#adding output layer\n",
    "classifier_ann.add(Dense(units = 1,activation = 'sigmoid'))"
   ]
  },
  {
   "cell_type": "code",
   "execution_count": 21,
   "metadata": {},
   "outputs": [],
   "source": [
    "#applying stochastic gradient to the ann\n",
    "Adam = keras.optimizers.Adam(lr = 0.1)\n",
    "classifier_ann.compile(optimizer = 'Adam',loss = 'binary_crossentropy',metrics = ['accuracy'])"
   ]
  },
  {
   "cell_type": "code",
   "execution_count": 22,
   "metadata": {},
   "outputs": [
    {
     "name": "stdout",
     "output_type": "stream",
     "text": [
      "WARNING:tensorflow:From C:\\Users\\SINDHU\\Anaconda3\\lib\\site-packages\\tensorflow\\python\\ops\\math_ops.py:3066: to_int32 (from tensorflow.python.ops.math_ops) is deprecated and will be removed in a future version.\n",
      "Instructions for updating:\n",
      "Use tf.cast instead.\n",
      "Epoch 1/100\n",
      "8000/8000 [==============================] - 1s 182us/step - loss: 0.4732 - accuracy: 0.8030\n",
      "Epoch 2/100\n",
      "8000/8000 [==============================] - 1s 94us/step - loss: 0.3804 - accuracy: 0.8370\n",
      "Epoch 3/100\n",
      "8000/8000 [==============================] - 1s 83us/step - loss: 0.3645 - accuracy: 0.8491\n",
      "Epoch 4/100\n",
      "8000/8000 [==============================] - 1s 86us/step - loss: 0.3562 - accuracy: 0.8521\n",
      "Epoch 5/100\n",
      "8000/8000 [==============================] - 1s 80us/step - loss: 0.3528 - accuracy: 0.8566\n",
      "Epoch 6/100\n",
      "8000/8000 [==============================] - 1s 82us/step - loss: 0.3507 - accuracy: 0.8558\n",
      "Epoch 7/100\n",
      "8000/8000 [==============================] - 1s 81us/step - loss: 0.3483 - accuracy: 0.8599\n",
      "Epoch 8/100\n",
      "8000/8000 [==============================] - 1s 85us/step - loss: 0.3473 - accuracy: 0.8600\n",
      "Epoch 9/100\n",
      "8000/8000 [==============================] - 1s 85us/step - loss: 0.3481 - accuracy: 0.8583\n",
      "Epoch 10/100\n",
      "8000/8000 [==============================] - 1s 84us/step - loss: 0.3476 - accuracy: 0.8575\n",
      "Epoch 11/100\n",
      "8000/8000 [==============================] - 1s 83us/step - loss: 0.3457 - accuracy: 0.8610\n",
      "Epoch 12/100\n",
      "8000/8000 [==============================] - 1s 86us/step - loss: 0.3455 - accuracy: 0.8643\n",
      "Epoch 13/100\n",
      "8000/8000 [==============================] - 1s 80us/step - loss: 0.3452 - accuracy: 0.8612\n",
      "Epoch 14/100\n",
      "8000/8000 [==============================] - 1s 82us/step - loss: 0.3445 - accuracy: 0.8621\n",
      "Epoch 15/100\n",
      "8000/8000 [==============================] - 1s 82us/step - loss: 0.3439 - accuracy: 0.8606\n",
      "Epoch 16/100\n",
      "8000/8000 [==============================] - 1s 85us/step - loss: 0.3444 - accuracy: 0.8622\n",
      "Epoch 17/100\n",
      "8000/8000 [==============================] - 1s 86us/step - loss: 0.3439 - accuracy: 0.8615\n",
      "Epoch 18/100\n",
      "8000/8000 [==============================] - 1s 82us/step - loss: 0.3431 - accuracy: 0.8627\n",
      "Epoch 19/100\n",
      "8000/8000 [==============================] - 1s 80us/step - loss: 0.3433 - accuracy: 0.8625\n",
      "Epoch 20/100\n",
      "8000/8000 [==============================] - 1s 87us/step - loss: 0.3428 - accuracy: 0.8631\n",
      "Epoch 21/100\n",
      "8000/8000 [==============================] - 1s 80us/step - loss: 0.3429 - accuracy: 0.8614\n",
      "Epoch 22/100\n",
      "8000/8000 [==============================] - 1s 81us/step - loss: 0.3427 - accuracy: 0.8610\n",
      "Epoch 23/100\n",
      "8000/8000 [==============================] - 1s 82us/step - loss: 0.3421 - accuracy: 0.8602\n",
      "Epoch 24/100\n",
      "8000/8000 [==============================] - 1s 83us/step - loss: 0.3418 - accuracy: 0.8619\n",
      "Epoch 25/100\n",
      "8000/8000 [==============================] - 1s 85us/step - loss: 0.3417 - accuracy: 0.8616\n",
      "Epoch 26/100\n",
      "8000/8000 [==============================] - 1s 81us/step - loss: 0.3411 - accuracy: 0.8633\n",
      "Epoch 27/100\n",
      "8000/8000 [==============================] - 1s 79us/step - loss: 0.3404 - accuracy: 0.8631\n",
      "Epoch 28/100\n",
      "8000/8000 [==============================] - 1s 86us/step - loss: 0.3406 - accuracy: 0.8640\n",
      "Epoch 29/100\n",
      "8000/8000 [==============================] - 1s 81us/step - loss: 0.3401 - accuracy: 0.8633\n",
      "Epoch 30/100\n",
      "8000/8000 [==============================] - 1s 79us/step - loss: 0.3402 - accuracy: 0.8640\n",
      "Epoch 31/100\n",
      "8000/8000 [==============================] - 1s 85us/step - loss: 0.3401 - accuracy: 0.8641\n",
      "Epoch 32/100\n",
      "8000/8000 [==============================] - 1s 83us/step - loss: 0.3398 - accuracy: 0.8618\n",
      "Epoch 33/100\n",
      "8000/8000 [==============================] - 1s 86us/step - loss: 0.3401 - accuracy: 0.8620\n",
      "Epoch 34/100\n",
      "8000/8000 [==============================] - 1s 82us/step - loss: 0.3396 - accuracy: 0.8640\n",
      "Epoch 35/100\n",
      "8000/8000 [==============================] - 1s 80us/step - loss: 0.3397 - accuracy: 0.8618\n",
      "Epoch 36/100\n",
      "8000/8000 [==============================] - 1s 87us/step - loss: 0.3382 - accuracy: 0.8630\n",
      "Epoch 37/100\n",
      "8000/8000 [==============================] - 1s 81us/step - loss: 0.3388 - accuracy: 0.8614\n",
      "Epoch 38/100\n",
      "8000/8000 [==============================] - 1s 80us/step - loss: 0.3386 - accuracy: 0.8600\n",
      "Epoch 39/100\n",
      "8000/8000 [==============================] - 1s 86us/step - loss: 0.3388 - accuracy: 0.8624\n",
      "Epoch 40/100\n",
      "8000/8000 [==============================] - 1s 82us/step - loss: 0.3388 - accuracy: 0.8645\n",
      "Epoch 41/100\n",
      "8000/8000 [==============================] - 1s 86us/step - loss: 0.3386 - accuracy: 0.8619\n",
      "Epoch 42/100\n",
      "8000/8000 [==============================] - 1s 82us/step - loss: 0.3381 - accuracy: 0.8610\n",
      "Epoch 43/100\n",
      "8000/8000 [==============================] - 1s 81us/step - loss: 0.3380 - accuracy: 0.8637\n",
      "Epoch 44/100\n",
      "8000/8000 [==============================] - 1s 87us/step - loss: 0.3373 - accuracy: 0.8634\n",
      "Epoch 45/100\n",
      "8000/8000 [==============================] - 1s 84us/step - loss: 0.3370 - accuracy: 0.8633\n",
      "Epoch 46/100\n",
      "8000/8000 [==============================] - 1s 83us/step - loss: 0.3378 - accuracy: 0.8609\n",
      "Epoch 47/100\n",
      "8000/8000 [==============================] - 1s 87us/step - loss: 0.3369 - accuracy: 0.8635\n",
      "Epoch 48/100\n",
      "8000/8000 [==============================] - 1s 82us/step - loss: 0.3373 - accuracy: 0.8644\n",
      "Epoch 49/100\n",
      "8000/8000 [==============================] - 1s 86us/step - loss: 0.3369 - accuracy: 0.8645\n",
      "Epoch 50/100\n",
      "8000/8000 [==============================] - 1s 81us/step - loss: 0.3367 - accuracy: 0.8631\n",
      "Epoch 51/100\n",
      "8000/8000 [==============================] - 1s 82us/step - loss: 0.3362 - accuracy: 0.8633\n",
      "Epoch 52/100\n",
      "8000/8000 [==============================] - 1s 85us/step - loss: 0.3364 - accuracy: 0.8641\n",
      "Epoch 53/100\n",
      "8000/8000 [==============================] - 1s 81us/step - loss: 0.3360 - accuracy: 0.8639\n",
      "Epoch 54/100\n",
      "8000/8000 [==============================] - 1s 83us/step - loss: 0.3357 - accuracy: 0.8633\n",
      "Epoch 55/100\n",
      "8000/8000 [==============================] - 1s 90us/step - loss: 0.3361 - accuracy: 0.8624\n",
      "Epoch 56/100\n",
      "8000/8000 [==============================] - 1s 83us/step - loss: 0.3361 - accuracy: 0.8641\n",
      "Epoch 57/100\n",
      "8000/8000 [==============================] - 1s 85us/step - loss: 0.3353 - accuracy: 0.8639\n",
      "Epoch 58/100\n",
      "8000/8000 [==============================] - 1s 82us/step - loss: 0.3358 - accuracy: 0.8645\n",
      "Epoch 59/100\n",
      "8000/8000 [==============================] - 1s 87us/step - loss: 0.3356 - accuracy: 0.8636\n",
      "Epoch 60/100\n",
      "8000/8000 [==============================] - 1s 81us/step - loss: 0.3358 - accuracy: 0.8640\n",
      "Epoch 61/100\n",
      "8000/8000 [==============================] - 1s 82us/step - loss: 0.3354 - accuracy: 0.8655\n",
      "Epoch 62/100\n",
      "8000/8000 [==============================] - 1s 81us/step - loss: 0.3349 - accuracy: 0.8620\n",
      "Epoch 63/100\n",
      "8000/8000 [==============================] - 1s 85us/step - loss: 0.3352 - accuracy: 0.8639\n",
      "Epoch 64/100\n",
      "8000/8000 [==============================] - 1s 84us/step - loss: 0.3349 - accuracy: 0.8651\n",
      "Epoch 65/100\n",
      "8000/8000 [==============================] - 1s 85us/step - loss: 0.3353 - accuracy: 0.8652\n",
      "Epoch 66/100\n",
      "8000/8000 [==============================] - 1s 86us/step - loss: 0.3350 - accuracy: 0.8636\n",
      "Epoch 67/100\n",
      "8000/8000 [==============================] - 1s 105us/step - loss: 0.3350 - accuracy: 0.8644\n",
      "Epoch 68/100\n",
      "8000/8000 [==============================] - 1s 97us/step - loss: 0.3347 - accuracy: 0.8644\n",
      "Epoch 69/100\n",
      "8000/8000 [==============================] - 1s 92us/step - loss: 0.3351 - accuracy: 0.8622\n",
      "Epoch 70/100\n",
      "8000/8000 [==============================] - 1s 101us/step - loss: 0.3343 - accuracy: 0.8662\n",
      "Epoch 71/100\n",
      "8000/8000 [==============================] - 1s 105us/step - loss: 0.3345 - accuracy: 0.8641\n",
      "Epoch 72/100\n",
      "8000/8000 [==============================] - 1s 100us/step - loss: 0.3339 - accuracy: 0.8640\n",
      "Epoch 73/100\n",
      "8000/8000 [==============================] - 1s 84us/step - loss: 0.3342 - accuracy: 0.8643\n",
      "Epoch 74/100\n",
      "8000/8000 [==============================] - 1s 85us/step - loss: 0.3332 - accuracy: 0.8643\n",
      "Epoch 75/100\n",
      "8000/8000 [==============================] - 1s 83us/step - loss: 0.3341 - accuracy: 0.8643\n",
      "Epoch 76/100\n"
     ]
    },
    {
     "name": "stdout",
     "output_type": "stream",
     "text": [
      "8000/8000 [==============================] - 1s 83us/step - loss: 0.3338 - accuracy: 0.8654\n",
      "Epoch 77/100\n",
      "8000/8000 [==============================] - 1s 85us/step - loss: 0.3333 - accuracy: 0.8625\n",
      "Epoch 78/100\n",
      "8000/8000 [==============================] - 1s 81us/step - loss: 0.3343 - accuracy: 0.8655\n",
      "Epoch 79/100\n",
      "8000/8000 [==============================] - 1s 84us/step - loss: 0.3335 - accuracy: 0.8661\n",
      "Epoch 80/100\n",
      "8000/8000 [==============================] - 1s 80us/step - loss: 0.3332 - accuracy: 0.8654\n",
      "Epoch 81/100\n",
      "8000/8000 [==============================] - 1s 79us/step - loss: 0.3337 - accuracy: 0.8654\n",
      "Epoch 82/100\n",
      "8000/8000 [==============================] - 1s 84us/step - loss: 0.3332 - accuracy: 0.8665\n",
      "Epoch 83/100\n",
      "8000/8000 [==============================] - 1s 79us/step - loss: 0.3332 - accuracy: 0.8660\n",
      "Epoch 84/100\n",
      "8000/8000 [==============================] - 1s 81us/step - loss: 0.3336 - accuracy: 0.8643\n",
      "Epoch 85/100\n",
      "8000/8000 [==============================] - 1s 86us/step - loss: 0.3326 - accuracy: 0.8669\n",
      "Epoch 86/100\n",
      "8000/8000 [==============================] - 1s 85us/step - loss: 0.3328 - accuracy: 0.8639\n",
      "Epoch 87/100\n",
      "8000/8000 [==============================] - 1s 89us/step - loss: 0.3328 - accuracy: 0.8660\n",
      "Epoch 88/100\n",
      "8000/8000 [==============================] - 1s 87us/step - loss: 0.3317 - accuracy: 0.8641\n",
      "Epoch 89/100\n",
      "8000/8000 [==============================] - 1s 85us/step - loss: 0.3326 - accuracy: 0.8671\n",
      "Epoch 90/100\n",
      "8000/8000 [==============================] - 1s 87us/step - loss: 0.3325 - accuracy: 0.8641\n",
      "Epoch 91/100\n",
      "8000/8000 [==============================] - 1s 83us/step - loss: 0.3326 - accuracy: 0.8669\n",
      "Epoch 92/100\n",
      "8000/8000 [==============================] - 1s 87us/step - loss: 0.3326 - accuracy: 0.8637\n",
      "Epoch 93/100\n",
      "8000/8000 [==============================] - 1s 93us/step - loss: 0.3317 - accuracy: 0.8662\n",
      "Epoch 94/100\n",
      "8000/8000 [==============================] - 1s 94us/step - loss: 0.3326 - accuracy: 0.8655\n",
      "Epoch 95/100\n",
      "8000/8000 [==============================] - 1s 86us/step - loss: 0.3311 - accuracy: 0.8664\n",
      "Epoch 96/100\n",
      "8000/8000 [==============================] - 1s 81us/step - loss: 0.3318 - accuracy: 0.8655\n",
      "Epoch 97/100\n",
      "8000/8000 [==============================] - 1s 89us/step - loss: 0.3321 - accuracy: 0.8656\n",
      "Epoch 98/100\n",
      "8000/8000 [==============================] - 1s 86us/step - loss: 0.3320 - accuracy: 0.8654\n",
      "Epoch 99/100\n",
      "8000/8000 [==============================] - 1s 114us/step - loss: 0.3328 - accuracy: 0.8649\n",
      "Epoch 100/100\n",
      "8000/8000 [==============================] - 1s 122us/step - loss: 0.3321 - accuracy: 0.8659\n"
     ]
    },
    {
     "data": {
      "text/plain": [
       "<keras.callbacks.callbacks.History at 0x1f74df7d888>"
      ]
     },
     "execution_count": 22,
     "metadata": {},
     "output_type": "execute_result"
    }
   ],
   "source": [
    "#fitting the ANN to the training set\n",
    "classifier_ann.fit(X_train,y_train,batch_size = 10,epochs = 100)"
   ]
  },
  {
   "cell_type": "code",
   "execution_count": 23,
   "metadata": {},
   "outputs": [
    {
     "data": {
      "text/plain": [
       "LogisticRegression(random_state=0)"
      ]
     },
     "execution_count": 23,
     "metadata": {},
     "output_type": "execute_result"
    }
   ],
   "source": [
    "#Logistic Regression algorithm\n",
    "from sklearn.linear_model import LogisticRegression\n",
    "classifier_lr = LogisticRegression(random_state = 0)\n",
    "classifier_lr.fit(X_train,y_train)"
   ]
  },
  {
   "cell_type": "code",
   "execution_count": 24,
   "metadata": {},
   "outputs": [
    {
     "data": {
      "image/png": "[encoded data removed]",
      "text/plain": [
       "<Figure size 432x288 with 1 Axes>"
      ]
     },
     "metadata": {
      "needs_background": "light"
     },
     "output_type": "display_data"
    }
   ],
   "source": [
    "#Kth Nearest Neighbor algorithm\n",
    "from sklearn.metrics import mean_squared_error \n",
    "from math import sqrt\n",
    "from sklearn.neighbors import KNeighborsClassifier\n",
    "rmse=[]\n",
    "\n",
    "for i  in range(1,100):\n",
    "    knn=KNeighborsClassifier(n_neighbors=i,metric='minkowski',p=2)\n",
    "    knn.fit(X_train,y_train)\n",
    "    pred=knn.predict(X_test) \n",
    "    error = sqrt(mean_squared_error(y_test,pred)) #calculate rmse\n",
    "    rmse.append(error) #store rmse values\n",
    "    \n",
    "#plotting the rmse values against k values\n",
    "plt.plot(range(1,100),rmse) #elbow curve \n",
    "plt.title('Elbow Method')\n",
    "plt.xlabel('K values')\n",
    "plt.ylabel('RMSE')\n",
    "plt.show()\n"
   ]
  },
  {
   "cell_type": "code",
   "execution_count": 25,
   "metadata": {},
   "outputs": [
    {
     "data": {
      "text/plain": [
       "<matplotlib.axes._subplots.AxesSubplot at 0x1f74f486248>"
      ]
     },
     "execution_count": 25,
     "metadata": {},
     "output_type": "execute_result"
    },
    {
     "data": {
      "image/png": "[encoded data removed]",
      "text/plain": [
       "<Figure size 432x288 with 1 Axes>"
      ]
     },
     "metadata": {
      "needs_background": "light"
     },
     "output_type": "display_data"
    }
   ],
   "source": [
    "rmse=[]\n",
    "\n",
    "for i  in range(20,30):\n",
    "    knn=KNeighborsClassifier(n_neighbors=i,metric='minkowski',p=2)\n",
    "    knn.fit(X_train,y_train)\n",
    "    pred=knn.predict(X_test) \n",
    "    error = sqrt(mean_squared_error(y_test,pred))\n",
    "    rmse.append(error)\n",
    "    \n",
    "\n",
    "curve = pd.DataFrame(rmse)\n",
    "curve.plot()\n"
   ]
  },
  {
   "cell_type": "code",
   "execution_count": 26,
   "metadata": {},
   "outputs": [
    {
     "data": {
      "text/plain": [
       "KNeighborsClassifier(n_neighbors=25)"
      ]
     },
     "execution_count": 26,
     "metadata": {},
     "output_type": "execute_result"
    }
   ],
   "source": [
    "#best k value is 25\n",
    "#fitting knn classifier with k value 25\n",
    "classifier_knn = KNeighborsClassifier(n_neighbors=25,metric='minkowski',p=2)\n",
    "classifier_knn.fit(X_train,y_train)"
   ]
  },
  {
   "cell_type": "code",
   "execution_count": 27,
   "metadata": {},
   "outputs": [],
   "source": [
    "y_ann=classifier_ann.predict(X_test)\n",
    "y_ann=(y_ann>0.5)\n",
    "y_lr=classifier_lr.predict(X_test)\n",
    "y_knn=classifier_knn.predict(X_test)\n"
   ]
  },
  {
   "cell_type": "code",
   "execution_count": 45,
   "metadata": {},
   "outputs": [
    {
     "data": {
      "text/html": [
       "<div>\n",
       "<style scoped>\n",
       "    .dataframe tbody tr th:only-of-type {\n",
       "        vertical-align: middle;\n",
       "    }\n",
       "\n",
       "    .dataframe tbody tr th {\n",
       "        vertical-align: top;\n",
       "    }\n",
       "\n",
       "    .dataframe thead th {\n",
       "        text-align: right;\n",
       "    }\n",
       "</style>\n",
       "<table border=\"1\" class=\"dataframe\">\n",
       "  <thead>\n",
       "    <tr style=\"text-align: right;\">\n",
       "      <th></th>\n",
       "      <th>0</th>\n",
       "    </tr>\n",
       "  </thead>\n",
       "  <tbody>\n",
       "    <tr>\n",
       "      <th>0</th>\n",
       "      <td>0</td>\n",
       "    </tr>\n",
       "    <tr>\n",
       "      <th>1</th>\n",
       "      <td>0</td>\n",
       "    </tr>\n",
       "    <tr>\n",
       "      <th>2</th>\n",
       "      <td>0</td>\n",
       "    </tr>\n",
       "    <tr>\n",
       "      <th>3</th>\n",
       "      <td>0</td>\n",
       "    </tr>\n",
       "    <tr>\n",
       "      <th>4</th>\n",
       "      <td>0</td>\n",
       "    </tr>\n",
       "    <tr>\n",
       "      <th>...</th>\n",
       "      <td>...</td>\n",
       "    </tr>\n",
       "    <tr>\n",
       "      <th>1995</th>\n",
       "      <td>0</td>\n",
       "    </tr>\n",
       "    <tr>\n",
       "      <th>1996</th>\n",
       "      <td>0</td>\n",
       "    </tr>\n",
       "    <tr>\n",
       "      <th>1997</th>\n",
       "      <td>0</td>\n",
       "    </tr>\n",
       "    <tr>\n",
       "      <th>1998</th>\n",
       "      <td>0</td>\n",
       "    </tr>\n",
       "    <tr>\n",
       "      <th>1999</th>\n",
       "      <td>0</td>\n",
       "    </tr>\n",
       "  </tbody>\n",
       "</table>\n",
       "<p>2000 rows × 1 columns</p>\n",
       "</div>"
      ],
      "text/plain": [
       "      0\n",
       "0     0\n",
       "1     0\n",
       "2     0\n",
       "3     0\n",
       "4     0\n",
       "...  ..\n",
       "1995  0\n",
       "1996  0\n",
       "1997  0\n",
       "1998  0\n",
       "1999  0\n",
       "\n",
       "[2000 rows x 1 columns]"
      ]
     },
     "execution_count": 45,
     "metadata": {},
     "output_type": "execute_result"
    }
   ],
   "source": [
    "y_lr=pd.DataFrame(y_lr)\n",
    "y_knn=pd.DataFrame(y_knn)\n",
    "y_result = (y_ann + y_lr + y_knn)/3\n",
    "y_result = (y_result > 0.5)\n",
    "y_result\n",
    "y_im=np.zeros(2000,int)\n",
    "y_im=pd.DataFrame(y_im)\n",
    "y_im"
   ]
  },
  {
   "cell_type": "code",
   "execution_count": 46,
   "metadata": {},
   "outputs": [],
   "source": [
    "#confusion matrices\n",
    "from sklearn.metrics import confusion_matrix\n",
    "cm_ann=confusion_matrix(y_test,y_ann)\n",
    "cm_lr=confusion_matrix(y_test,y_lr)\n",
    "cm_knn=confusion_matrix(y_test,y_knn)\n",
    "cm_result=confusion_matrix(y_test,y_result)\n",
    "cm_im=confusion_matrix(y_test,y_im)\n"
   ]
  },
  {
   "cell_type": "code",
   "execution_count": 47,
   "metadata": {},
   "outputs": [
    {
     "name": "stdout",
     "output_type": "stream",
     "text": [
      "[[1513   82]\n",
      " [ 191  214]]\n",
      "[[1526   69]\n",
      " [ 309   96]]\n",
      "[[1564   31]\n",
      " [ 265  140]]\n",
      "[[1565   30]\n",
      " [ 255  150]]\n",
      "[[1595    0]\n",
      " [ 405    0]]\n"
     ]
    }
   ],
   "source": [
    "print(cm_ann)\n",
    "print(cm_lr)\n",
    "print(cm_knn)\n",
    "print(cm_result)\n",
    "print(cm_im)"
   ]
  },
  {
   "cell_type": "code",
   "execution_count": 31,
   "metadata": {},
   "outputs": [
    {
     "name": "stdout",
     "output_type": "stream",
     "text": [
      "0.8635\n",
      "0.811\n",
      "0.852\n",
      "0.844\n"
     ]
    }
   ],
   "source": [
    "# accuracy = (TP + TN)/(TP + TN + FP + FN)\n",
    "print((cm_ann[0][0]+cm_ann[1][1])/2000)\n",
    "print((cm_lr[0][0]+cm_lr[1][1])/2000)\n",
    "print((cm_knn[0][0]+cm_knn[1][1])/2000)\n",
    "print((cm_result[0][0]+cm_result[1][1])/2000)"
   ]
  },
  {
   "cell_type": "code",
   "execution_count": 32,
   "metadata": {},
   "outputs": [
    {
     "data": {
      "text/plain": [
       "array([[0.33532375],\n",
       "       [0.32906651],\n",
       "       [0.16913632],\n",
       "       ...,\n",
       "       [0.14852685],\n",
       "       [0.1584734 ],\n",
       "       [0.220083  ]], dtype=float32)"
      ]
     },
     "execution_count": 32,
     "metadata": {},
     "output_type": "execute_result"
    }
   ],
   "source": [
    "classifier_ann.predict(X_test)"
   ]
  },
  {
   "cell_type": "code",
   "execution_count": 68,
   "metadata": {},
   "outputs": [],
   "source": [
    "#importing libraries for ensembling\n",
    "from sklearn.ensemble import AdaBoostClassifier\n",
    "from sklearn.tree import DecisionTreeClassifier\n",
    "from sklearn.metrics import confusion_matrix\n",
    "from sklearn.model_selection import cross_val_score\n",
    "from sklearn.ensemble import GradientBoostingClassifier as gbc\n"
   ]
  },
  {
   "cell_type": "code",
   "execution_count": 78,
   "metadata": {},
   "outputs": [
    {
     "data": {
      "text/plain": [
       "AdaBoostClassifier(base_estimator=DecisionTreeClassifier(max_depth=1),\n",
       "                   n_estimators=150)"
      ]
     },
     "execution_count": 78,
     "metadata": {},
     "output_type": "execute_result"
    }
   ],
   "source": [
    "#Adaboost\n",
    "classifier_ada = AdaBoostClassifier(\n",
    "    DecisionTreeClassifier(max_depth=1),\n",
    "    n_estimators=150)\n",
    "classifier_ada.fit(X_train,y_train)\n"
   ]
  },
  {
   "cell_type": "code",
   "execution_count": 70,
   "metadata": {},
   "outputs": [
    {
     "name": "stdout",
     "output_type": "stream",
     "text": [
      "accuracies are  [0.86625 0.845   0.8775  0.84375 0.83125 0.845   0.8675  0.85125 0.84375\n",
      " 0.85125]\n",
      "mean accuracy :  0.8522500000000001\n",
      "var = 0.00017587499999999968\n"
     ]
    }
   ],
   "source": [
    "#cross validation \n",
    "accuracies=cross_val_score(estimator=classifier_ada,X=X_train,y=y_train,cv=10)\n",
    "print(\"accuracies are \",accuracies)\n",
    "print(\"mean accuracy : \",accuracies.mean())\n",
    "print('var =',accuracies.var())"
   ]
  },
  {
   "cell_type": "code",
   "execution_count": 37,
   "metadata": {},
   "outputs": [],
   "source": [
    "from sklearn.model_selection import GridSearchCV\n",
    "parameters={'n_estimators':[100,150,200,250]}\n",
    "gridsearch1=GridSearchCV(estimator=classifier_ada,param_grid=parameters,scoring='accuracy',cv=10)\n",
    "gridsearch1=gridsearch1.fit(X_train,y_train)\n",
    "best_parameters=gridsearch1.best_params_\n",
    "best_accuracy=gridsearch1.best_score_"
   ]
  },
  {
   "cell_type": "code",
   "execution_count": 38,
   "metadata": {},
   "outputs": [
    {
     "name": "stdout",
     "output_type": "stream",
     "text": [
      "{'n_estimators': 200}\n",
      "0.85275\n"
     ]
    }
   ],
   "source": [
    "print(best_parameters)\n",
    "print(best_accuracy)"
   ]
  },
  {
   "cell_type": "code",
   "execution_count": 79,
   "metadata": {},
   "outputs": [
    {
     "data": {
      "text/plain": [
       "array([[1506,   89],\n",
       "       [ 186,  219]], dtype=int64)"
      ]
     },
     "execution_count": 79,
     "metadata": {},
     "output_type": "execute_result"
    }
   ],
   "source": [
    "y_ada=classifier_ada.predict(X_test)\n",
    "cm=confusion_matrix(y_test,y_ada)\n",
    "cm"
   ]
  },
  {
   "cell_type": "code",
   "execution_count": 80,
   "metadata": {},
   "outputs": [
    {
     "data": {
      "text/plain": [
       "GradientBoostingClassifier(n_estimators=200)"
      ]
     },
     "execution_count": 80,
     "metadata": {},
     "output_type": "execute_result"
    }
   ],
   "source": [
    "#Gradient Boosting\n",
    "classifier_gb=gbc(n_estimators=200,max_depth=3,learning_rate=0.1)\n",
    "classifier_gb.fit(X_train,y_train)\n",
    "\n"
   ]
  },
  {
   "cell_type": "code",
   "execution_count": 73,
   "metadata": {},
   "outputs": [
    {
     "name": "stdout",
     "output_type": "stream",
     "text": [
      "accuracies are  [0.86375 0.85625 0.87875 0.86125 0.855   0.85625 0.87    0.8575  0.84875\n",
      " 0.87375]\n",
      "mean accuracy :  0.862125\n",
      "var = 7.970312500000027e-05\n"
     ]
    }
   ],
   "source": [
    "#cross validation\n",
    "accuracies=cross_val_score(estimator=classifier_gb,X=X_train,y=y_train,cv=10)\n",
    "print(\"accuracies are \",accuracies)\n",
    "\n",
    "print(\"mean accuracy : \",accuracies.mean())\n",
    "print('var =',accuracies.var())"
   ]
  },
  {
   "cell_type": "code",
   "execution_count": 43,
   "metadata": {},
   "outputs": [],
   "source": [
    "parameters={'n_estimators':[100,150,200,250],'max_depth':[2,3,4],'learning_rate':[0.1,0.2,0.3]}\n",
    "gridsearch2=GridSearchCV(estimator=classifier_gb,param_grid=parameters,scoring='accuracy',cv=10)\n",
    "gridsearch2=gridsearch2.fit(X_train,y_train)\n",
    "best_parameters=gridsearch2.best_params_\n",
    "best_accuracy=gridsearch2.best_score_"
   ]
  },
  {
   "cell_type": "code",
   "execution_count": 44,
   "metadata": {},
   "outputs": [
    {
     "name": "stdout",
     "output_type": "stream",
     "text": [
      "{'learning_rate': 0.1, 'max_depth': 3, 'n_estimators': 100}\n",
      "0.8647500000000001\n"
     ]
    }
   ],
   "source": [
    "print(best_parameters)\n",
    "print(best_accuracy)"
   ]
  },
  {
   "cell_type": "code",
   "execution_count": 81,
   "metadata": {},
   "outputs": [
    {
     "name": "stdout",
     "output_type": "stream",
     "text": [
      "[[1506   89]\n",
      " [ 186  219]]\n"
     ]
    }
   ],
   "source": [
    "y_grad=classifier_gb.predict(X_test)\n",
    "cm2=confusion_matrix(y_test,y_grad)\n",
    "print(cm)"
   ]
  },
  {
   "cell_type": "code",
   "execution_count": 90,
   "metadata": {},
   "outputs": [],
   "source": [
    "y_ada=y_ada.reshape(2000,1)"
   ]
  },
  {
   "cell_type": "code",
   "execution_count": 91,
   "metadata": {},
   "outputs": [
    {
     "data": {
      "text/plain": [
       "(2000, 1)"
      ]
     },
     "execution_count": 91,
     "metadata": {},
     "output_type": "execute_result"
    }
   ],
   "source": [
    "y_ada.shape"
   ]
  },
  {
   "cell_type": "code",
   "execution_count": 92,
   "metadata": {},
   "outputs": [],
   "source": [
    "y_grad=y_grad.reshape(2000,1)"
   ]
  },
  {
   "cell_type": "code",
   "execution_count": 93,
   "metadata": {},
   "outputs": [
    {
     "data": {
      "text/plain": [
       "(2000, 1)"
      ]
     },
     "execution_count": 93,
     "metadata": {},
     "output_type": "execute_result"
    }
   ],
   "source": [
    "y_grad.shape"
   ]
  },
  {
   "cell_type": "code",
   "execution_count": 98,
   "metadata": {},
   "outputs": [],
   "source": [
    "y=np.abs(y_grad-y_ada)"
   ]
  },
  {
   "cell_type": "code",
   "execution_count": 99,
   "metadata": {},
   "outputs": [
    {
     "data": {
      "text/plain": [
       "85"
      ]
     },
     "execution_count": 99,
     "metadata": {},
     "output_type": "execute_result"
    }
   ],
   "source": [
    "y.sum()"
   ]
  },
  {
   "cell_type": "code",
   "execution_count": 100,
   "metadata": {},
   "outputs": [],
   "source": [
    "y=(0.35*y_ann)+(0.2*(y_grad+y_ada))+(0.15*y_knn)+(0.1*y_lr)\n",
    "y=(y>=0.5)"
   ]
  },
  {
   "cell_type": "code",
   "execution_count": 101,
   "metadata": {},
   "outputs": [],
   "source": [
    "cm_ann=confusion_matrix(y_test,y_ann)\n",
    "cm_lr=confusion_matrix(y_test,y_lr)\n",
    "cm_knn=confusion_matrix(y_test,y_knn)\n",
    "cm_ada=confusion_matrix(y_test,y_ada)\n",
    "cm_grad=confusion_matrix(y_test,y_grad)\n",
    "cm_im=confusion_matrix(y_test,y_im)\n",
    "cm_act=confusion_matrix(y_test,y)"
   ]
  },
  {
   "cell_type": "code",
   "execution_count": 104,
   "metadata": {},
   "outputs": [
    {
     "name": "stdout",
     "output_type": "stream",
     "text": [
      "[[1526   69]\n",
      " [ 309   96]]\n",
      "[[1564   31]\n",
      " [ 265  140]]\n",
      "[[1513   82]\n",
      " [ 191  214]]\n",
      "[[1506   89]\n",
      " [ 186  219]]\n",
      "[[1520   75]\n",
      " [ 191  214]]\n",
      "[[1523   72]\n",
      " [ 197  208]]\n",
      "[[1595    0]\n",
      " [ 405    0]]\n"
     ]
    }
   ],
   "source": [
    "print(cm_lr)\n",
    "print(cm_knn)\n",
    "print(cm_ann)\n",
    "print(cm_ada)\n",
    "print(cm_grad)\n",
    "print(cm_act)\n",
    "print(cm_im)"
   ]
  },
  {
   "cell_type": "code",
   "execution_count": 122,
   "metadata": {},
   "outputs": [
    {
     "name": "stdout",
     "output_type": "stream",
     "text": [
      "[[1423  172]\n",
      " [ 142  263]]\n"
     ]
    }
   ],
   "source": [
    "y=y_ann+y_ada+y_grad+y_lr+y_knn\n",
    "y=(y>0.5)\n",
    "cm__=confusion_matrix(y_test,y)\n",
    "print(cm__)"
   ]
  },
  {
   "cell_type": "code",
   "execution_count": 117,
   "metadata": {},
   "outputs": [
    {
     "data": {
      "text/plain": [
       "array([2, 4, 6])"
      ]
     },
     "execution_count": 117,
     "metadata": {},
     "output_type": "execute_result"
    }
   ],
   "source": [
    "a=np.array([[1,2,3],[1,2,3]])\n",
    "np.sum(a,axis=0)"
   ]
  },
  {
   "cell_type": "code",
   "execution_count": 116,
   "metadata": {},
   "outputs": [
    {
     "data": {
      "text/plain": [
       "(3,)"
      ]
     },
     "execution_count": 116,
     "metadata": {},
     "output_type": "execute_result"
    }
   ],
   "source": [
    "a.shape"
   ]
  },
  {
   "cell_type": "code",
   "execution_count": 120,
   "metadata": {},
   "outputs": [],
   "source": [
    "a_del=np.delete(a,1,1)"
   ]
  },
  {
   "cell_type": "code",
   "execution_count": 121,
   "metadata": {},
   "outputs": [
    {
     "data": {
      "text/plain": [
       "array([[1, 3],\n",
       "       [1, 3]])"
      ]
     },
     "execution_count": 121,
     "metadata": {},
     "output_type": "execute_result"
    }
   ],
   "source": [
    "a_del"
   ]
  },
  {
   "cell_type": "code",
   "execution_count": null,
   "metadata": {},
   "outputs": [],
   "source": []
  }
 ],
 "metadata": {
  "kernelspec": {
   "display_name": "Python 3",
   "language": "python",
   "name": "python3"
  },
  "language_info": {
   "codemirror_mode": {
    "name": "ipython",
    "version": 3
   },
   "file_extension": ".py",
   "mimetype": "text/x-python",
   "name": "python",
   "nbconvert_exporter": "python",
   "pygments_lexer": "ipython3",
   "version": "3.7.4"
  }
 },
 "nbformat": 4,
 "nbformat_minor": 2
}
