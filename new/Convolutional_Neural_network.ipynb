{
 "cells": [
  {
   "cell_type": "code",
   "execution_count": 1,
   "metadata": {},
   "outputs": [
    {
     "name": "stderr",
     "output_type": "stream",
     "text": [
      "Using TensorFlow backend.\n"
     ]
    }
   ],
   "source": [
    "\n",
    "\"\"\"\n",
    "@author: SINDHU\n",
    "\"\"\"\n",
    "\n",
    "#importing the libraries\n",
    "import keras\n",
    "from keras.models import Sequential\n",
    "from keras.layers import Conv2D\n",
    "from keras.layers import MaxPool2D\n",
    "from keras.layers import Flatten\n",
    "from keras.layers import Dense"
   ]
  },
  {
   "cell_type": "code",
   "execution_count": 2,
   "metadata": {},
   "outputs": [],
   "source": [
    "#Creating Sequential object\n",
    "classifier=Sequential()"
   ]
  },
  {
   "cell_type": "code",
   "execution_count": 3,
   "metadata": {},
   "outputs": [
    {
     "name": "stdout",
     "output_type": "stream",
     "text": [
      "WARNING:tensorflow:From C:\\Users\\SINDHU\\Anaconda3\\lib\\site-packages\\tensorflow\\python\\ops\\resource_variable_ops.py:435: colocate_with (from tensorflow.python.framework.ops) is deprecated and will be removed in a future version.\n",
      "Instructions for updating:\n",
      "Colocations handled automatically by placer.\n"
     ]
    }
   ],
   "source": [
    "#step-1 : Convolution\n",
    "\n",
    "classifier.add(Conv2D(2, (3, 3), input_shape=(64, 64, 3), activation='relu'))\n",
    "#step-2 Pooling\n",
    "classifier.add(MaxPool2D(2,2))\n"
   ]
  },
  {
   "cell_type": "code",
   "execution_count": 4,
   "metadata": {},
   "outputs": [],
   "source": [
    "#step3 Flattening\n",
    "classifier.add(Flatten())\n",
    "\n",
    "#step 4: Building CNN\n",
    "#adding hidden layer\n",
    "classifier.add(Dense(units=128,activation='relu'))\n",
    "#adding output layer\n",
    "classifier.add(Dense(units=1,activation='sigmoid'))\n",
    "\n",
    "classifier.compile(optimizer='adam',loss='binary_crossentropy',metrics=['accuracy'])\n"
   ]
  },
  {
   "cell_type": "code",
   "execution_count": 5,
   "metadata": {},
   "outputs": [
    {
     "name": "stdout",
     "output_type": "stream",
     "text": [
      "Found 8000 images belonging to 2 classes.\n"
     ]
    }
   ],
   "source": [
    "\n",
    "from keras.preprocessing.image import ImageDataGenerator\n",
    "# Preprocessing the Training set\n",
    "train_datagen = ImageDataGenerator(rescale = 1./255,\n",
    "                                   shear_range = 0.2,\n",
    "                                   zoom_range = 0.2,\n",
    "                                   horizontal_flip = True)\n",
    "training_set = train_datagen.flow_from_directory('dataset/training_set',\n",
    "                                                 target_size = (64, 64),\n",
    "                                                 batch_size = 32,\n",
    "                                                 class_mode = 'binary')\n"
   ]
  },
  {
   "cell_type": "code",
   "execution_count": 6,
   "metadata": {},
   "outputs": [
    {
     "name": "stdout",
     "output_type": "stream",
     "text": [
      "Found 2000 images belonging to 2 classes.\n"
     ]
    }
   ],
   "source": [
    "# Preprocessing the Test set\n",
    "test_datagen = ImageDataGenerator(rescale = 1./255)\n",
    "test_set = test_datagen.flow_from_directory('dataset/test_set',\n",
    "                                            target_size = (64, 64),\n",
    "                                            batch_size = 32,\n",
    "                                            class_mode = 'binary')"
   ]
  },
  {
   "cell_type": "code",
   "execution_count": 7,
   "metadata": {},
   "outputs": [
    {
     "name": "stdout",
     "output_type": "stream",
     "text": [
      "WARNING:tensorflow:From C:\\Users\\SINDHU\\Anaconda3\\lib\\site-packages\\tensorflow\\python\\ops\\math_ops.py:3066: to_int32 (from tensorflow.python.ops.math_ops) is deprecated and will be removed in a future version.\n",
      "Instructions for updating:\n",
      "Use tf.cast instead.\n",
      "Epoch 1/25\n",
      "250/250 [==============================] - 351s 1s/step - loss: 0.6990 - accuracy: 0.5729 - val_loss: 0.5956 - val_accuracy: 0.5590\n",
      "Epoch 2/25\n",
      "250/250 [==============================] - 22s 86ms/step - loss: 0.6549 - accuracy: 0.6141 - val_loss: 0.7476 - val_accuracy: 0.6090\n",
      "Epoch 3/25\n",
      "250/250 [==============================] - 21s 85ms/step - loss: 0.6414 - accuracy: 0.6366 - val_loss: 0.6308 - val_accuracy: 0.6090\n",
      "Epoch 4/25\n",
      "250/250 [==============================] - 23s 93ms/step - loss: 0.6298 - accuracy: 0.6509 - val_loss: 0.6108 - val_accuracy: 0.6425\n",
      "Epoch 5/25\n",
      "250/250 [==============================] - 23s 93ms/step - loss: 0.6229 - accuracy: 0.6551 - val_loss: 0.8068 - val_accuracy: 0.6305\n",
      "Epoch 6/25\n",
      "250/250 [==============================] - 23s 92ms/step - loss: 0.6178 - accuracy: 0.6554 - val_loss: 0.6250 - val_accuracy: 0.6485\n",
      "Epoch 7/25\n",
      "250/250 [==============================] - 23s 91ms/step - loss: 0.6115 - accuracy: 0.6665 - val_loss: 0.6194 - val_accuracy: 0.6355\n",
      "Epoch 8/25\n",
      "250/250 [==============================] - 23s 93ms/step - loss: 0.6088 - accuracy: 0.6735 - val_loss: 0.6196 - val_accuracy: 0.6540\n",
      "Epoch 9/25\n",
      "250/250 [==============================] - 23s 91ms/step - loss: 0.6002 - accuracy: 0.6791 - val_loss: 0.7986 - val_accuracy: 0.6310\n",
      "Epoch 10/25\n",
      "250/250 [==============================] - 23s 91ms/step - loss: 0.5950 - accuracy: 0.6810 - val_loss: 0.5886 - val_accuracy: 0.6610\n",
      "Epoch 11/25\n",
      "250/250 [==============================] - 23s 93ms/step - loss: 0.5904 - accuracy: 0.6802 - val_loss: 0.5434 - val_accuracy: 0.6180\n",
      "Epoch 12/25\n",
      "250/250 [==============================] - 24s 95ms/step - loss: 0.5904 - accuracy: 0.6855 - val_loss: 0.6373 - val_accuracy: 0.6505\n",
      "Epoch 13/25\n",
      "250/250 [==============================] - 24s 96ms/step - loss: 0.5879 - accuracy: 0.6905 - val_loss: 0.7353 - val_accuracy: 0.6430\n",
      "Epoch 14/25\n",
      "250/250 [==============================] - 24s 96ms/step - loss: 0.5839 - accuracy: 0.6914 - val_loss: 0.6075 - val_accuracy: 0.6605\n",
      "Epoch 15/25\n",
      "250/250 [==============================] - 23s 92ms/step - loss: 0.5734 - accuracy: 0.7053 - val_loss: 0.8238 - val_accuracy: 0.6435\n",
      "Epoch 16/25\n",
      "250/250 [==============================] - 23s 91ms/step - loss: 0.5752 - accuracy: 0.6998 - val_loss: 0.4603 - val_accuracy: 0.6510\n",
      "Epoch 17/25\n",
      "250/250 [==============================] - 23s 92ms/step - loss: 0.5700 - accuracy: 0.7011 - val_loss: 0.5765 - val_accuracy: 0.6660\n",
      "Epoch 18/25\n",
      "250/250 [==============================] - 23s 91ms/step - loss: 0.5714 - accuracy: 0.7026 - val_loss: 0.6531 - val_accuracy: 0.6505\n",
      "Epoch 19/25\n",
      "250/250 [==============================] - 23s 93ms/step - loss: 0.5674 - accuracy: 0.7089 - val_loss: 0.5112 - val_accuracy: 0.6670\n",
      "Epoch 20/25\n",
      "250/250 [==============================] - 23s 91ms/step - loss: 0.5587 - accuracy: 0.7114 - val_loss: 0.4916 - val_accuracy: 0.6555\n",
      "Epoch 21/25\n",
      "250/250 [==============================] - 23s 91ms/step - loss: 0.5568 - accuracy: 0.7185 - val_loss: 0.7354 - val_accuracy: 0.6540\n",
      "Epoch 22/25\n",
      "250/250 [==============================] - 23s 91ms/step - loss: 0.5565 - accuracy: 0.7185 - val_loss: 0.5635 - val_accuracy: 0.6665\n",
      "Epoch 23/25\n",
      "250/250 [==============================] - 23s 92ms/step - loss: 0.5483 - accuracy: 0.7221 - val_loss: 0.4061 - val_accuracy: 0.6665\n",
      "Epoch 24/25\n",
      "250/250 [==============================] - 23s 91ms/step - loss: 0.5403 - accuracy: 0.7270 - val_loss: 0.4502 - val_accuracy: 0.6590\n",
      "Epoch 25/25\n",
      "250/250 [==============================] - 22s 90ms/step - loss: 0.5421 - accuracy: 0.7247 - val_loss: 0.7400 - val_accuracy: 0.6725\n"
     ]
    },
    {
     "data": {
      "text/plain": [
       "<keras.callbacks.callbacks.History at 0x21141672288>"
      ]
     },
     "execution_count": 7,
     "metadata": {},
     "output_type": "execute_result"
    }
   ],
   "source": [
    "# Training the CNN on the Training set and evaluating it on the Test set\n",
    "classifier.fit(x = training_set, validation_data = test_set, epochs = 25)\n"
   ]
  },
  {
   "cell_type": "code",
   "execution_count": 8,
   "metadata": {},
   "outputs": [
    {
     "name": "stdout",
     "output_type": "stream",
     "text": [
      "dog\n"
     ]
    }
   ],
   "source": [
    "# Making a single prediction\n",
    "\n",
    "import numpy as np\n",
    "from keras.preprocessing import image\n",
    "test_image = image.load_img('dataset/single_prediction/cat_or_dog_1.jpg', target_size = (64, 64))\n",
    "test_image = image.img_to_array(test_image)\n",
    "test_image = np.expand_dims(test_image, axis = 0)\n",
    "result = classifier.predict(test_image)\n",
    "training_set.class_indices\n",
    "if result[0][0] == 1:\n",
    "    prediction = 'dog'\n",
    "else:\n",
    "    prediction = 'cat'\n",
    "print(prediction)"
   ]
  },
  {
   "cell_type": "code",
   "execution_count": null,
   "metadata": {},
   "outputs": [],
   "source": []
  }
 ],
 "metadata": {
  "kernelspec": {
   "display_name": "Python 3",
   "language": "python",
   "name": "python3"
  },
  "language_info": {
   "codemirror_mode": {
    "name": "ipython",
    "version": 3
   },
   "file_extension": ".py",
   "mimetype": "text/x-python",
   "name": "python",
   "nbconvert_exporter": "python",
   "pygments_lexer": "ipython3",
   "version": "3.7.4"
  }
 },
 "nbformat": 4,
 "nbformat_minor": 2
}
